{
 "cells": [
  {
   "cell_type": "markdown",
   "metadata": {
    "application/vnd.databricks.v1+cell": {
     "cellMetadata": {
      "byteLimit": 2048000,
      "rowLimit": 10000
     },
     "inputWidgets": {},
     "nuid": "92772a10-df4d-41b3-a4da-a7808df14059",
     "showTitle": false,
     "tableResultSettingsMap": {},
     "title": ""
    }
   },
   "source": [
    "# create Fact Table"
   ]
  },
  {
   "cell_type": "markdown",
   "metadata": {
    "application/vnd.databricks.v1+cell": {
     "cellMetadata": {
      "byteLimit": 2048000,
      "rowLimit": 10000
     },
     "inputWidgets": {},
     "nuid": "af22eada-b92e-46f3-b533-29aefa864be3",
     "showTitle": false,
     "tableResultSettingsMap": {},
     "title": ""
    }
   },
   "source": [
    "**Reading Silver Data**"
   ]
  },
  {
   "cell_type": "code",
   "execution_count": 0,
   "metadata": {
    "application/vnd.databricks.v1+cell": {
     "cellMetadata": {
      "byteLimit": 2048000,
      "implicitDf": true,
      "rowLimit": 10000
     },
     "inputWidgets": {},
     "nuid": "d92ad1d6-c6ab-4c5a-91dc-974e4a309c47",
     "showTitle": false,
     "tableResultSettingsMap": {},
     "title": ""
    }
   },
   "outputs": [
    {
     "output_type": "display_data",
     "data": {
      "text/html": [
       "<style scoped>\n",
       "  .table-result-container {\n",
       "    max-height: 300px;\n",
       "    overflow: auto;\n",
       "  }\n",
       "  table, th, td {\n",
       "    border: 1px solid black;\n",
       "    border-collapse: collapse;\n",
       "  }\n",
       "  th, td {\n",
       "    padding: 5px;\n",
       "  }\n",
       "  th {\n",
       "    text-align: left;\n",
       "  }\n",
       "</style><div class='table-result-container'><table class='table-result'><thead style='background-color: white'><tr><th>Branch_ID</th><th>Dealer_ID</th><th>Model_ID</th><th>Revenue</th><th>Units_Sold</th><th>Date_ID</th><th>Day</th><th>Month</th><th>Year</th><th>BranchName</th><th>DealerName</th><th>Product_Name</th><th>model_category</th><th>RevPerUnit</th></tr></thead><tbody></tbody></table></div>"
      ]
     },
     "metadata": {
      "application/vnd.databricks.v1+output": {
       "addedWidgets": {},
       "aggData": [],
       "aggError": "",
       "aggOverflow": false,
       "aggSchema": [],
       "aggSeriesLimitReached": false,
       "aggType": "",
       "arguments": {},
       "columnCustomDisplayInfos": {},
       "data": [],
       "datasetInfos": [
        {
         "name": "_sqldf",
         "schema": {
          "fields": [
           {
            "metadata": {},
            "name": "Branch_ID",
            "nullable": true,
            "type": "string"
           },
           {
            "metadata": {},
            "name": "Dealer_ID",
            "nullable": true,
            "type": "string"
           },
           {
            "metadata": {},
            "name": "Model_ID",
            "nullable": true,
            "type": "string"
           },
           {
            "metadata": {},
            "name": "Revenue",
            "nullable": true,
            "type": "long"
           },
           {
            "metadata": {},
            "name": "Units_Sold",
            "nullable": true,
            "type": "long"
           },
           {
            "metadata": {},
            "name": "Date_ID",
            "nullable": true,
            "type": "string"
           },
           {
            "metadata": {},
            "name": "Day",
            "nullable": true,
            "type": "integer"
           },
           {
            "metadata": {},
            "name": "Month",
            "nullable": true,
            "type": "integer"
           },
           {
            "metadata": {},
            "name": "Year",
            "nullable": true,
            "type": "integer"
           },
           {
            "metadata": {},
            "name": "BranchName",
            "nullable": true,
            "type": "string"
           },
           {
            "metadata": {},
            "name": "DealerName",
            "nullable": true,
            "type": "string"
           },
           {
            "metadata": {},
            "name": "Product_Name",
            "nullable": true,
            "type": "string"
           },
           {
            "metadata": {},
            "name": "model_category",
            "nullable": true,
            "type": "string"
           },
           {
            "metadata": {},
            "name": "RevPerUnit",
            "nullable": true,
            "type": "double"
           }
          ],
          "type": "struct"
         },
         "tableIdentifier": null,
         "typeStr": "pyspark.sql.connect.dataframe.DataFrame"
        }
       ],
       "dbfsResultPath": null,
       "isJsonSchema": true,
       "metadata": {
        "createTempViewForImplicitDf": true,
        "dataframeName": "_sqldf",
        "executionCount": 9
       },
       "overflow": false,
       "plotOptions": {
        "customPlotOptions": {},
        "displayType": "table",
        "pivotAggregation": null,
        "pivotColumns": null,
        "xColumns": null,
        "yColumns": null
       },
       "removedWidgets": [],
       "schema": [
        {
         "metadata": "{}",
         "name": "Branch_ID",
         "type": "\"string\""
        },
        {
         "metadata": "{}",
         "name": "Dealer_ID",
         "type": "\"string\""
        },
        {
         "metadata": "{}",
         "name": "Model_ID",
         "type": "\"string\""
        },
        {
         "metadata": "{}",
         "name": "Revenue",
         "type": "\"long\""
        },
        {
         "metadata": "{}",
         "name": "Units_Sold",
         "type": "\"long\""
        },
        {
         "metadata": "{}",
         "name": "Date_ID",
         "type": "\"string\""
        },
        {
         "metadata": "{}",
         "name": "Day",
         "type": "\"integer\""
        },
        {
         "metadata": "{}",
         "name": "Month",
         "type": "\"integer\""
        },
        {
         "metadata": "{}",
         "name": "Year",
         "type": "\"integer\""
        },
        {
         "metadata": "{}",
         "name": "BranchName",
         "type": "\"string\""
        },
        {
         "metadata": "{}",
         "name": "DealerName",
         "type": "\"string\""
        },
        {
         "metadata": "{}",
         "name": "Product_Name",
         "type": "\"string\""
        },
        {
         "metadata": "{}",
         "name": "model_category",
         "type": "\"string\""
        },
        {
         "metadata": "{}",
         "name": "RevPerUnit",
         "type": "\"double\""
        }
       ],
       "type": "table"
      }
     },
     "output_type": "display_data"
    }
   ],
   "source": [
    "%sql\n",
    "\n",
    "select * from parquet.`abfss://silver@adlscarsaless.dfs.core.windows.net/carsales`"
   ]
  },
  {
   "cell_type": "code",
   "execution_count": 0,
   "metadata": {
    "application/vnd.databricks.v1+cell": {
     "cellMetadata": {
      "byteLimit": 2048000,
      "rowLimit": 10000
     },
     "inputWidgets": {},
     "nuid": "1bf46e31-6d95-4afa-833e-3af92946088a",
     "showTitle": false,
     "tableResultSettingsMap": {},
     "title": ""
    }
   },
   "outputs": [],
   "source": [
    "df_silver = spark.sql(\"select * from parquet.`abfss://silver@adlscarsaless.dfs.core.windows.net/carsales`\")"
   ]
  },
  {
   "cell_type": "code",
   "execution_count": 0,
   "metadata": {
    "application/vnd.databricks.v1+cell": {
     "cellMetadata": {
      "byteLimit": 2048000,
      "rowLimit": 10000
     },
     "inputWidgets": {},
     "nuid": "8ea9fcf0-cdc7-46f5-bac1-1cac7a279b66",
     "showTitle": false,
     "tableResultSettingsMap": {},
     "title": ""
    }
   },
   "outputs": [
    {
     "output_type": "display_data",
     "data": {
      "text/html": [
       "<style scoped>\n",
       "  .table-result-container {\n",
       "    max-height: 300px;\n",
       "    overflow: auto;\n",
       "  }\n",
       "  table, th, td {\n",
       "    border: 1px solid black;\n",
       "    border-collapse: collapse;\n",
       "  }\n",
       "  th, td {\n",
       "    padding: 5px;\n",
       "  }\n",
       "  th {\n",
       "    text-align: left;\n",
       "  }\n",
       "</style><div class='table-result-container'><table class='table-result'><thead style='background-color: white'><tr><th>Branch_ID</th><th>Dealer_ID</th><th>Model_ID</th><th>Revenue</th><th>Units_Sold</th><th>Date_ID</th><th>Day</th><th>Month</th><th>Year</th><th>BranchName</th><th>DealerName</th><th>Product_Name</th><th>model_category</th><th>RevPerUnit</th></tr></thead><tbody></tbody></table></div>"
      ]
     },
     "metadata": {
      "application/vnd.databricks.v1+output": {
       "addedWidgets": {},
       "aggData": [],
       "aggError": "",
       "aggOverflow": false,
       "aggSchema": [],
       "aggSeriesLimitReached": false,
       "aggType": "",
       "arguments": {},
       "columnCustomDisplayInfos": {},
       "data": [],
       "datasetInfos": [],
       "dbfsResultPath": null,
       "isJsonSchema": true,
       "metadata": {},
       "overflow": false,
       "plotOptions": {
        "customPlotOptions": {},
        "displayType": "table",
        "pivotAggregation": null,
        "pivotColumns": null,
        "xColumns": null,
        "yColumns": null
       },
       "removedWidgets": [],
       "schema": [
        {
         "metadata": "{}",
         "name": "Branch_ID",
         "type": "\"string\""
        },
        {
         "metadata": "{}",
         "name": "Dealer_ID",
         "type": "\"string\""
        },
        {
         "metadata": "{}",
         "name": "Model_ID",
         "type": "\"string\""
        },
        {
         "metadata": "{}",
         "name": "Revenue",
         "type": "\"long\""
        },
        {
         "metadata": "{}",
         "name": "Units_Sold",
         "type": "\"long\""
        },
        {
         "metadata": "{}",
         "name": "Date_ID",
         "type": "\"string\""
        },
        {
         "metadata": "{}",
         "name": "Day",
         "type": "\"integer\""
        },
        {
         "metadata": "{}",
         "name": "Month",
         "type": "\"integer\""
        },
        {
         "metadata": "{}",
         "name": "Year",
         "type": "\"integer\""
        },
        {
         "metadata": "{}",
         "name": "BranchName",
         "type": "\"string\""
        },
        {
         "metadata": "{}",
         "name": "DealerName",
         "type": "\"string\""
        },
        {
         "metadata": "{}",
         "name": "Product_Name",
         "type": "\"string\""
        },
        {
         "metadata": "{}",
         "name": "model_category",
         "type": "\"string\""
        },
        {
         "metadata": "{}",
         "name": "RevPerUnit",
         "type": "\"double\""
        }
       ],
       "type": "table"
      }
     },
     "output_type": "display_data"
    }
   ],
   "source": [
    "df_silver.display()"
   ]
  },
  {
   "cell_type": "markdown",
   "metadata": {
    "application/vnd.databricks.v1+cell": {
     "cellMetadata": {
      "byteLimit": 2048000,
      "rowLimit": 10000
     },
     "inputWidgets": {},
     "nuid": "89c5878c-f75e-4a92-b519-48694bab6093",
     "showTitle": false,
     "tableResultSettingsMap": {},
     "title": ""
    }
   },
   "source": [
    "**Reading all the DIM's (dimensions)**"
   ]
  },
  {
   "cell_type": "code",
   "execution_count": 0,
   "metadata": {
    "application/vnd.databricks.v1+cell": {
     "cellMetadata": {
      "byteLimit": 2048000,
      "rowLimit": 10000
     },
     "inputWidgets": {},
     "nuid": "7721eacc-a6f1-4f99-aa5e-3d19f4617d8d",
     "showTitle": false,
     "tableResultSettingsMap": {},
     "title": ""
    }
   },
   "outputs": [],
   "source": [
    "df_dealer = spark.sql(\"select * from cars_catalog.gold.dim_dealer\")\n",
    "\n",
    "df_branch = spark.sql(\"select * from cars_catalog.gold.dim_branch\")\n",
    "\n",
    "df_model = spark.sql(\"select * from cars_catalog.gold.dim_model\")\n",
    "\n",
    "df_date = spark.sql(\"select * from cars_catalog.gold.dim_date\")"
   ]
  },
  {
   "cell_type": "markdown",
   "metadata": {
    "application/vnd.databricks.v1+cell": {
     "cellMetadata": {
      "byteLimit": 2048000,
      "rowLimit": 10000
     },
     "inputWidgets": {},
     "nuid": "8a64f4dd-51f9-4cff-9ed2-b4856edf3635",
     "showTitle": false,
     "tableResultSettingsMap": {},
     "title": ""
    }
   },
   "source": [
    "**Bringing Keys to the FACT table**"
   ]
  },
  {
   "cell_type": "code",
   "execution_count": 0,
   "metadata": {
    "application/vnd.databricks.v1+cell": {
     "cellMetadata": {
      "byteLimit": 2048000,
      "rowLimit": 10000
     },
     "inputWidgets": {},
     "nuid": "9c565630-1fb6-47ec-ab3e-8def22cdf70b",
     "showTitle": false,
     "tableResultSettingsMap": {},
     "title": ""
    }
   },
   "outputs": [],
   "source": [
    "df_fact = df_silver.join(df_branch,\n",
    "                         df_silver['Branch_ID']==df_branch['Branch_ID'],\n",
    "                         how='left')\\\n",
    "    .join(df_dealer,df_silver['Dealer_ID']==df_dealer['Dealer_ID'],how='left')\\\n",
    "    .join(df_model,df_silver['Model_ID']==df_model['Model_ID'],how='left')\\\n",
    "    .join(df_date,df_silver['Date_ID']==df_date['Date_ID'],how='left')\\\n",
    "    .select(\n",
    "            df_silver['Revenue'],df_silver['Units_Sold'],df_silver['RevPerUnit'],\n",
    "            df_branch['dim_branch_key'],\n",
    "            df_dealer['dim_dealer_key'],\n",
    "            df_model['dim_model_key'],\n",
    "            df_date['dim_date_key']\n",
    "        )"
   ]
  },
  {
   "cell_type": "markdown",
   "metadata": {
    "application/vnd.databricks.v1+cell": {
     "cellMetadata": {
      "byteLimit": 2048000,
      "rowLimit": 10000
     },
     "inputWidgets": {},
     "nuid": "947c8b16-6dba-46e1-8783-c24097af5747",
     "showTitle": false,
     "tableResultSettingsMap": {},
     "title": ""
    }
   },
   "source": [
    "### writing FACT table"
   ]
  },
  {
   "cell_type": "code",
   "execution_count": 0,
   "metadata": {
    "application/vnd.databricks.v1+cell": {
     "cellMetadata": {
      "byteLimit": 2048000,
      "rowLimit": 10000
     },
     "inputWidgets": {},
     "nuid": "f6fed4fd-c743-4d53-a58c-455c647b855f",
     "showTitle": false,
     "tableResultSettingsMap": {},
     "title": ""
    }
   },
   "outputs": [],
   "source": [
    "from delta.tables import DeltaTable"
   ]
  },
  {
   "cell_type": "code",
   "execution_count": 0,
   "metadata": {
    "application/vnd.databricks.v1+cell": {
     "cellMetadata": {
      "byteLimit": 2048000,
      "rowLimit": 10000
     },
     "inputWidgets": {},
     "nuid": "c1257362-fba7-474f-a775-a241ee5aacdb",
     "showTitle": false,
     "tableResultSettingsMap": {},
     "title": ""
    }
   },
   "outputs": [],
   "source": [
    "if spark.catalog.tableExists('factsales'):\n",
    "    delta_tbl = DeltaTable.forName(spark,'cars_catalog.gold.factsales')\n",
    "\n",
    "    delta_tbl.alias('trgt').merge(df_fact.alias('src'),\"trgt.dim_branch_key==src.dim_branch_key and trgt.dim_dealer_key==src.dim_dealer_key and trgt.dim_model_key==src.dim_model_key and trgt.dim_date_key==src.dim_date_key\")\\\n",
    "        .whenMatchedUpdateAll()\\\n",
    "        .whenNotMatchedInsertAll()\\\n",
    "        .execute()\n",
    "        \n",
    "else:\n",
    "    df_fact.write.format('delta')\\\n",
    "    .mode('Overwrite')\\\n",
    "    .option(\"path\",\"abfss://gold@adlscarsaless.dfs.core.windows.net/factsales\")\\\n",
    "    .saveAsTable('cars_catalog.gold.factsales')"
   ]
  },
  {
   "cell_type": "code",
   "execution_count": 0,
   "metadata": {
    "application/vnd.databricks.v1+cell": {
     "cellMetadata": {
      "byteLimit": 2048000,
      "implicitDf": true,
      "rowLimit": 10000
     },
     "inputWidgets": {},
     "nuid": "e11382da-64b6-4e48-aa65-f9486c1ebf50",
     "showTitle": false,
     "tableResultSettingsMap": {},
     "title": ""
    }
   },
   "outputs": [
    {
     "output_type": "execute_result",
     "data": {
      "text/plain": [
       "DataFrame[Revenue: bigint, Units_Sold: bigint, RevPerUnit: double, dim_branch_key: bigint, dim_dealer_key: bigint, dim_model_key: bigint, dim_date_key: bigint]"
      ]
     },
     "execution_count": 51,
     "metadata": {},
     "output_type": "execute_result"
    }
   ],
   "source": [
    "\n",
    "spark.sql(\"select * from cars_catalog.gold.factsales\")"
   ]
  }
 ],
 "metadata": {
  "application/vnd.databricks.v1+notebook": {
   "computePreferences": null,
   "dashboards": [],
   "environmentMetadata": {
    "base_environment": "",
    "environment_version": "2"
   },
   "language": "python",
   "notebookMetadata": {
    "mostRecentlyExecutedCommandWithImplicitDF": {
     "commandId": -1,
     "dataframes": [
      "_sqldf"
     ]
    },
    "pythonIndentUnit": 4
   },
   "notebookName": "gold_fact_sales",
   "widgets": {}
  },
  "language_info": {
   "name": "python"
  }
 },
 "nbformat": 4,
 "nbformat_minor": 0
}